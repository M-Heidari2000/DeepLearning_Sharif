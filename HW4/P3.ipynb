{
 "cells": [
  {
   "cell_type": "markdown",
   "id": "3a93028f",
   "metadata": {},
   "source": [
    "### Problem 3\n",
    "#### Milad Heidari\n",
    "#### Student Number: 98101469"
   ]
  },
  {
   "cell_type": "code",
   "execution_count": 1,
   "id": "26617fe2",
   "metadata": {},
   "outputs": [],
   "source": [
    "import torch\n",
    "from torch import nn\n",
    "from torch.utils.data import TensorDataset, DataLoader, RandomSampler, SequentialSampler\n",
    "from transformers import BertTokenizer, BertForSequenceClassification, DistilBertTokenizer\n",
    "from transformers import BertModel, DistilBertModel, DistilBertForSequenceClassification\n",
    "from sklearn.model_selection import train_test_split\n",
    "from torch.utils.data import Dataset\n",
    "import seaborn as sns\n",
    "from sklearn.metrics import confusion_matrix, classification_report\n",
    "\n",
    "import pandas as pd\n",
    "import numpy as np\n",
    "import random\n",
    "import os"
   ]
  },
  {
   "cell_type": "code",
   "execution_count": 2,
   "id": "670ecd2f",
   "metadata": {},
   "outputs": [
    {
     "data": {
      "text/plain": [
       "'cuda'"
      ]
     },
     "execution_count": 2,
     "metadata": {},
     "output_type": "execute_result"
    }
   ],
   "source": [
    "# set device to cuda if available\n",
    "device = 'cuda' if torch.cuda.is_available() else 'cpu'\n",
    "device"
   ]
  },
  {
   "cell_type": "code",
   "execution_count": 3,
   "id": "6e7beb59",
   "metadata": {
    "scrolled": true
   },
   "outputs": [],
   "source": [
    "# preparing the dataset\n",
    "\n",
    "MAX_LINES = 10000\n",
    "\n",
    "dataset = []\n",
    "label_map = {}\n",
    "prefix = 'poems/'\n",
    "file_names = os.listdir(prefix)\n",
    "for i, file in enumerate(file_names):\n",
    "    num_beyts = 0\n",
    "    poet_name = file.split('_')[0]\n",
    "    label_map[i] = poet_name\n",
    "    with open(prefix + file, 'r') as f:\n",
    "        beyts = list(f)\n",
    "        for line in beyts:\n",
    "            beyt = line.strip()\n",
    "            if len(beyt) == 0:\n",
    "                continue\n",
    "            dataset.append((beyt, i))\n",
    "            num_beyts += 1\n",
    "            if num_beyts >= MAX_LINES:\n",
    "                break"
   ]
  },
  {
   "cell_type": "code",
   "execution_count": 4,
   "id": "772317b0",
   "metadata": {},
   "outputs": [
    {
     "name": "stdout",
     "output_type": "stream",
     "text": [
      "dataset size: 100000\n",
      "\n",
      "label map:\n",
      "{0: 'amir', 1: 'attar', 2: 'jami', 3: 'bahar', 4: 'ghaani', 5: 'ferdousi', 6: 'bidel', 7: 'moulavi', 8: 'saadi', 9: 'sanaee'}\n"
     ]
    }
   ],
   "source": [
    "print(f'dataset size: {len(dataset)}')\n",
    "print()\n",
    "print('label map:')\n",
    "print(label_map)"
   ]
  },
  {
   "cell_type": "code",
   "execution_count": 5,
   "id": "dc112c3c",
   "metadata": {},
   "outputs": [
    {
     "name": "stdout",
     "output_type": "stream",
     "text": [
      "training set size: 80000\n",
      "test set size: 20000\n"
     ]
    }
   ],
   "source": [
    "# train-test split of the dataset (25% of the data for testing)\n",
    "train_data_orig, test_data_orig = train_test_split(dataset, test_size=0.2)\n",
    "print(f'training set size: {len(train_data_orig)}')\n",
    "print(f'test set size: {len(test_data_orig)}')"
   ]
  },
  {
   "cell_type": "code",
   "execution_count": 6,
   "id": "f1d0fce8",
   "metadata": {},
   "outputs": [],
   "source": [
    "# initialize the tokenizer and dataset class\n",
    "\n",
    "tokenizer = BertTokenizer.from_pretrained(\n",
    "    'HooshvareLab/bert-fa-base-uncased'\n",
    ")\n",
    "\n",
    "class MyDataset(Dataset):\n",
    "    def __init__(self, data):\n",
    "        self.data = data\n",
    "    \n",
    "    def __len__(self):\n",
    "        return len(self.data)\n",
    "    \n",
    "    def __getitem__(self, index):\n",
    "        text, label = self.data[index]\n",
    "        \n",
    "        text = tokenizer(\n",
    "            text,\n",
    "            padding='max_length',\n",
    "            max_length=25,\n",
    "            truncation=True,\n",
    "            return_tensors='pt',\n",
    "        )\n",
    "        \n",
    "        return text, label"
   ]
  },
  {
   "cell_type": "code",
   "execution_count": 7,
   "id": "0081448a",
   "metadata": {},
   "outputs": [],
   "source": [
    "train_data = MyDataset(train_data_orig)\n",
    "test_data = MyDataset(test_data_orig)\n",
    "test_data_for_perplexity = MyDataset(test_data_orig[:1000])"
   ]
  },
  {
   "cell_type": "markdown",
   "id": "58f56dc3",
   "metadata": {},
   "source": [
    "### Feature Extraction"
   ]
  },
  {
   "cell_type": "code",
   "execution_count": 8,
   "id": "325f81ae",
   "metadata": {},
   "outputs": [],
   "source": [
    "class BertClassifier(nn.Module):\n",
    "    \n",
    "    def __init__(self):\n",
    "        super().__init__()\n",
    "        \n",
    "        self.bert= BertModel.from_pretrained('HooshvareLab/bert-fa-base-uncased')\n",
    "        self.linear_relu_stack = nn.Sequential(\n",
    "            nn.Linear(768, 256),\n",
    "            nn.ReLU(),\n",
    "            nn.Linear(256, 32),\n",
    "            nn.ReLU(),\n",
    "            nn.Linear(32, 10),\n",
    "            nn.Sigmoid()\n",
    "        )\n",
    "        \n",
    "    def forward(self, input_id, mask):\n",
    "        _, pooled_output = self.bert(input_ids=input_id, attention_mask=mask, return_dict=False)\n",
    "        output = self.linear_relu_stack(pooled_output)\n",
    "        return output"
   ]
  },
  {
   "cell_type": "code",
   "execution_count": 9,
   "id": "d80b28e8",
   "metadata": {
    "scrolled": true
   },
   "outputs": [
    {
     "name": "stderr",
     "output_type": "stream",
     "text": [
      "Some weights of the model checkpoint at HooshvareLab/bert-fa-base-uncased were not used when initializing BertModel: ['cls.predictions.transform.dense.weight', 'cls.seq_relationship.weight', 'cls.predictions.transform.LayerNorm.weight', 'cls.predictions.transform.dense.bias', 'cls.seq_relationship.bias', 'cls.predictions.decoder.bias', 'cls.predictions.transform.LayerNorm.bias', 'cls.predictions.decoder.weight', 'cls.predictions.bias']\n",
      "- This IS expected if you are initializing BertModel from the checkpoint of a model trained on another task or with another architecture (e.g. initializing a BertForSequenceClassification model from a BertForPreTraining model).\n",
      "- This IS NOT expected if you are initializing BertModel from the checkpoint of a model that you expect to be exactly identical (initializing a BertForSequenceClassification model from a BertForSequenceClassification model).\n"
     ]
    }
   ],
   "source": [
    "model = BertClassifier().to(device)"
   ]
  },
  {
   "cell_type": "code",
   "execution_count": 10,
   "id": "3c8d51f3",
   "metadata": {},
   "outputs": [],
   "source": [
    "# freeze parameters of the BERT module\n",
    "for param in model.bert.parameters():\n",
    "    param.requires_grad = False"
   ]
  },
  {
   "cell_type": "code",
   "execution_count": 11,
   "id": "3d431654",
   "metadata": {},
   "outputs": [],
   "source": [
    "# define hyperparameters\n",
    "learning_rate = 1e-3\n",
    "batch_size = 32\n",
    "epochs = 4"
   ]
  },
  {
   "cell_type": "code",
   "execution_count": 12,
   "id": "aeb38d8a",
   "metadata": {},
   "outputs": [],
   "source": [
    "# create loss function and dataloader\n",
    "loss_fn = nn.CrossEntropyLoss()\n",
    "optimizer = torch.optim.Adam(model.parameters(), lr=learning_rate)\n",
    "train_dataloader = DataLoader(train_data, batch_size=batch_size, shuffle=True)\n",
    "test_dataloader = DataLoader(test_data, batch_size=batch_size, shuffle=False)"
   ]
  },
  {
   "cell_type": "code",
   "execution_count": 13,
   "id": "bb9cd831",
   "metadata": {},
   "outputs": [],
   "source": [
    "def train_loop(dataloader, model, loss_fn, optimizer):\n",
    "    model.train()\n",
    "    size = len(dataloader.dataset)\n",
    "    num_correct = 0\n",
    "    for batch_num, (X, y) in enumerate(dataloader):\n",
    "        losses = []\n",
    "        # forward prop\n",
    "        y = y.to(device)\n",
    "        mask = X['attention_mask'].to(device)\n",
    "        input_id = X['input_ids'].squeeze(1).to(device)\n",
    "        output = model(input_id, mask)\n",
    "        loss = loss_fn(output, y)\n",
    "        losses.append(loss.item())\n",
    "        num_correct += (output.argmax(dim=1) == y).sum().item()\n",
    "        # back prop\n",
    "        optimizer.zero_grad()\n",
    "        loss.backward()\n",
    "        optimizer.step()\n",
    "        \n",
    "        if batch_num % 100 == 0:\n",
    "            print(f'batch: {batch_num}, loss: {np.mean(losses)}')\n",
    "            losses = []\n",
    "    \n",
    "    accuracy = num_correct / size\n",
    "    print(f'train_loss: {loss.item()}')\n",
    "    print(f'Train Accuracy: {np.round(accuracy*100,2)}%')\n",
    "    \n",
    "            \n",
    "def test_loop(dataloader, model, loss_fn):\n",
    "    model.eval()\n",
    "    size = len(dataloader.dataset)\n",
    "    num_correct = 0\n",
    "    with torch.no_grad():\n",
    "        for batch_num, (X, y) in enumerate(dataloader):\n",
    "            y = y.to(device)\n",
    "            mask = X['attention_mask'].to(device)\n",
    "            input_id = X['input_ids'].squeeze(1).to(device)\n",
    "            output = model(input_id, mask)\n",
    "            loss = loss_fn(output, y)\n",
    "            num_correct += (output.argmax(dim=1) == y).sum().item()\n",
    "                        \n",
    "    accuracy = num_correct / size\n",
    "    print(f'Test Accuracy: {np.round(accuracy*100, 2)}%')"
   ]
  },
  {
   "cell_type": "code",
   "execution_count": 14,
   "id": "1f4d9ed0",
   "metadata": {
    "scrolled": true
   },
   "outputs": [
    {
     "name": "stdout",
     "output_type": "stream",
     "text": [
      "epoch 1 ==================================================\n",
      "batch: 0, loss: 2.3116447925567627\n",
      "batch: 100, loss: 2.2903084754943848\n",
      "batch: 200, loss: 2.278376817703247\n",
      "batch: 300, loss: 2.2450242042541504\n",
      "batch: 400, loss: 2.2146358489990234\n",
      "batch: 500, loss: 2.2410593032836914\n",
      "batch: 600, loss: 2.2591638565063477\n",
      "batch: 700, loss: 2.12243914604187\n",
      "batch: 800, loss: 2.2026891708374023\n",
      "batch: 900, loss: 2.205671548843384\n",
      "batch: 1000, loss: 2.0322110652923584\n",
      "batch: 1100, loss: 2.2377426624298096\n",
      "batch: 1200, loss: 2.1759121417999268\n",
      "batch: 1300, loss: 2.1133975982666016\n",
      "batch: 1400, loss: 2.1096227169036865\n",
      "batch: 1500, loss: 2.163007974624634\n",
      "batch: 1600, loss: 2.0782876014709473\n",
      "batch: 1700, loss: 2.146310567855835\n",
      "batch: 1800, loss: 2.122490167617798\n",
      "batch: 1900, loss: 2.1481564044952393\n",
      "batch: 2000, loss: 2.152341604232788\n",
      "batch: 2100, loss: 2.089872121810913\n",
      "batch: 2200, loss: 2.2090954780578613\n",
      "batch: 2300, loss: 2.183229684829712\n",
      "batch: 2400, loss: 2.062624931335449\n",
      "train_loss: 2.0510427951812744\n",
      "Train Accuracy: 23.01%\n",
      "Test Accuracy: 28.16%\n",
      "\n",
      "epoch 2 ==================================================\n",
      "batch: 0, loss: 2.1424081325531006\n",
      "batch: 100, loss: 2.0866951942443848\n",
      "batch: 200, loss: 2.0519073009490967\n",
      "batch: 300, loss: 2.111086130142212\n",
      "batch: 400, loss: 2.2453789710998535\n",
      "batch: 500, loss: 2.1504616737365723\n",
      "batch: 600, loss: 2.156663417816162\n",
      "batch: 700, loss: 2.1249377727508545\n",
      "batch: 800, loss: 1.9806585311889648\n",
      "batch: 900, loss: 2.144657611846924\n",
      "batch: 1000, loss: 2.1468141078948975\n",
      "batch: 1100, loss: 2.1230876445770264\n",
      "batch: 1200, loss: 2.081433057785034\n",
      "batch: 1300, loss: 2.133990526199341\n",
      "batch: 1400, loss: 1.9468612670898438\n",
      "batch: 1500, loss: 2.132511615753174\n",
      "batch: 1600, loss: 2.1228678226470947\n",
      "batch: 1700, loss: 2.1342380046844482\n",
      "batch: 1800, loss: 2.0384974479675293\n",
      "batch: 1900, loss: 2.1770787239074707\n",
      "batch: 2000, loss: 2.067533493041992\n",
      "batch: 2100, loss: 2.102759599685669\n",
      "batch: 2200, loss: 2.1883394718170166\n",
      "batch: 2300, loss: 2.011909246444702\n",
      "batch: 2400, loss: 2.0400912761688232\n",
      "train_loss: 2.2491490840911865\n",
      "Train Accuracy: 27.98%\n",
      "Test Accuracy: 30.43%\n",
      "\n",
      "epoch 3 ==================================================\n",
      "batch: 0, loss: 2.053952693939209\n",
      "batch: 100, loss: 2.1287925243377686\n",
      "batch: 200, loss: 2.0204451084136963\n",
      "batch: 300, loss: 2.0413620471954346\n",
      "batch: 400, loss: 2.1975643634796143\n",
      "batch: 500, loss: 2.098431348800659\n",
      "batch: 600, loss: 2.081760883331299\n",
      "batch: 700, loss: 2.0395846366882324\n",
      "batch: 800, loss: 2.0341687202453613\n",
      "batch: 900, loss: 2.142850399017334\n",
      "batch: 1000, loss: 2.0725371837615967\n",
      "batch: 1100, loss: 2.1078271865844727\n",
      "batch: 1200, loss: 2.1835412979125977\n",
      "batch: 1300, loss: 2.101402521133423\n",
      "batch: 1400, loss: 2.0860719680786133\n",
      "batch: 1500, loss: 2.1287424564361572\n",
      "batch: 1600, loss: 2.0996997356414795\n",
      "batch: 1700, loss: 2.1401407718658447\n",
      "batch: 1800, loss: 2.086756944656372\n",
      "batch: 1900, loss: 2.0536465644836426\n",
      "batch: 2000, loss: 2.1131060123443604\n",
      "batch: 2100, loss: 2.0408053398132324\n",
      "batch: 2200, loss: 2.076843500137329\n",
      "batch: 2300, loss: 2.1342484951019287\n",
      "batch: 2400, loss: 2.048415184020996\n",
      "train_loss: 2.033109664916992\n",
      "Train Accuracy: 29.24%\n",
      "Test Accuracy: 31.99%\n",
      "\n",
      "epoch 4 ==================================================\n",
      "batch: 0, loss: 2.1138761043548584\n",
      "batch: 100, loss: 2.095057964324951\n",
      "batch: 200, loss: 2.050841808319092\n",
      "batch: 300, loss: 2.0062196254730225\n",
      "batch: 400, loss: 2.125096559524536\n",
      "batch: 500, loss: 2.1147425174713135\n",
      "batch: 600, loss: 2.0191540718078613\n",
      "batch: 700, loss: 2.028024673461914\n",
      "batch: 800, loss: 2.126713514328003\n",
      "batch: 900, loss: 2.046612024307251\n",
      "batch: 1000, loss: 2.1242434978485107\n",
      "batch: 1100, loss: 2.0191094875335693\n",
      "batch: 1200, loss: 2.1182303428649902\n",
      "batch: 1300, loss: 2.0460894107818604\n",
      "batch: 1400, loss: 2.053093671798706\n",
      "batch: 1500, loss: 1.9990085363388062\n",
      "batch: 1600, loss: 2.1277503967285156\n",
      "batch: 1700, loss: 2.014026165008545\n",
      "batch: 1800, loss: 1.9964362382888794\n",
      "batch: 1900, loss: 2.0298547744750977\n",
      "batch: 2000, loss: 2.0719854831695557\n",
      "batch: 2100, loss: 2.1304569244384766\n",
      "batch: 2200, loss: 2.0390095710754395\n",
      "batch: 2300, loss: 1.9416767358779907\n",
      "batch: 2400, loss: 2.2125370502471924\n",
      "train_loss: 2.136659622192383\n",
      "Train Accuracy: 30.06%\n",
      "Test Accuracy: 33.32%\n",
      "\n"
     ]
    }
   ],
   "source": [
    "for i in range(1, epochs+1):\n",
    "    print(f'epoch {i}', '='*50)\n",
    "    train_loop(train_dataloader, model, loss_fn, optimizer)\n",
    "    test_loop(test_dataloader, model, loss_fn)\n",
    "    print()"
   ]
  },
  {
   "cell_type": "code",
   "execution_count": 15,
   "id": "f943257f",
   "metadata": {},
   "outputs": [],
   "source": [
    "torch.save(model, 'feature_extractor.pt')\n",
    "# model = torch.load('feature_extractor.pt')"
   ]
  },
  {
   "cell_type": "code",
   "execution_count": 16,
   "id": "df640f55",
   "metadata": {},
   "outputs": [],
   "source": [
    "test_dataloader = DataLoader(test_data, batch_size=1, shuffle=False)\n",
    "estimated_labels = []\n",
    "actual_labels = []\n",
    "\n",
    "with torch.no_grad():\n",
    "    for (X, y) in test_dataloader:\n",
    "        mask = X['attention_mask'].to(device)\n",
    "        input_id = X['input_ids'].squeeze(1).to(device)\n",
    "        output = model(input_id, mask)\n",
    "        actual_labels.append(y.item())\n",
    "        estimated_labels.append(output.argmax(dim=1).item())"
   ]
  },
  {
   "cell_type": "code",
   "execution_count": 17,
   "id": "87d56bbd",
   "metadata": {
    "scrolled": false
   },
   "outputs": [
    {
     "name": "stdout",
     "output_type": "stream",
     "text": [
      "tensor([[3.8672e-03, 5.3468e-01, 3.0875e-05, 1.8439e-02, 1.0571e-01, 5.9718e-08,\n",
      "         8.8126e-01, 2.0849e-03, 9.9988e-01, 9.7074e-01]], device='cuda:0')\n",
      "saadi\n"
     ]
    }
   ],
   "source": [
    "# classify arbitrary poem\n",
    "\n",
    "poem = 'به لب رسیده مرا جان خودی به من برساند'\n",
    "with torch.no_grad():\n",
    "    token = tokenizer(\n",
    "        poem,\n",
    "        padding='max_length',\n",
    "        max_length=25,\n",
    "        truncation=True,\n",
    "        return_tensors='pt',\n",
    "    )\n",
    "    \n",
    "    mask = token['attention_mask'].to(device)\n",
    "    input_id = token['input_ids'].squeeze(1).to(device)\n",
    "    output = model(input_id, mask)\n",
    "    print(output)\n",
    "    predicted_label = output.argmax(dim=1).item()\n",
    "    print(label_map[predicted_label])"
   ]
  },
  {
   "cell_type": "code",
   "execution_count": 18,
   "id": "f3aee51c",
   "metadata": {},
   "outputs": [
    {
     "name": "stdout",
     "output_type": "stream",
     "text": [
      "              precision    recall  f1-score   support\n",
      "\n",
      "           0       0.36      0.45      0.40      1979\n",
      "           1       0.29      0.26      0.28      2084\n",
      "           2       0.34      0.31      0.32      1982\n",
      "           3       0.30      0.10      0.15      2006\n",
      "           4       0.27      0.09      0.13      2021\n",
      "           5       0.44      0.58      0.50      1985\n",
      "           6       0.45      0.66      0.53      1923\n",
      "           7       0.26      0.31      0.28      1985\n",
      "           8       0.27      0.47      0.35      2015\n",
      "           9       0.21      0.13      0.16      2020\n",
      "\n",
      "    accuracy                           0.33     20000\n",
      "   macro avg       0.32      0.34      0.31     20000\n",
      "weighted avg       0.32      0.33      0.31     20000\n",
      "\n"
     ]
    }
   ],
   "source": [
    "# classification report\n",
    "print(classification_report(actual_labels, estimated_labels))"
   ]
  },
  {
   "cell_type": "code",
   "execution_count": 19,
   "id": "f9b70b00",
   "metadata": {
    "scrolled": false
   },
   "outputs": [
    {
     "data": {
      "image/png": "[encoded data removed]",
      "text/plain": [
       "<Figure size 640x480 with 2 Axes>"
      ]
     },
     "metadata": {},
     "output_type": "display_data"
    }
   ],
   "source": [
    "# confusion matrix\n",
    "confmat = confusion_matrix(actual_labels, estimated_labels)\n",
    "sns.heatmap(\n",
    "    confmat,\n",
    "    xticklabels=label_map.values(),\n",
    "    yticklabels=label_map.values(),\n",
    "    annot=True,\n",
    "    fmt='d'\n",
    ");"
   ]
  },
  {
   "cell_type": "markdown",
   "id": "598c8b54",
   "metadata": {},
   "source": [
    "### Fine Tuning"
   ]
  },
  {
   "cell_type": "code",
   "execution_count": 8,
   "id": "48df8ce6",
   "metadata": {},
   "outputs": [],
   "source": [
    "tokenizer = DistilBertTokenizer.from_pretrained(\n",
    "    'HooshvareLab/distilbert-fa-zwnj-base'\n",
    ")"
   ]
  },
  {
   "cell_type": "code",
   "execution_count": 9,
   "id": "2ea6bdbe",
   "metadata": {
    "scrolled": true
   },
   "outputs": [
    {
     "name": "stderr",
     "output_type": "stream",
     "text": [
      "Some weights of the model checkpoint at HooshvareLab/distilbert-fa-zwnj-base were not used when initializing DistilBertForSequenceClassification: ['vocab_transform.bias', 'vocab_projector.weight', 'vocab_transform.weight', 'vocab_layer_norm.bias', 'vocab_layer_norm.weight', 'vocab_projector.bias']\n",
      "- This IS expected if you are initializing DistilBertForSequenceClassification from the checkpoint of a model trained on another task or with another architecture (e.g. initializing a BertForSequenceClassification model from a BertForPreTraining model).\n",
      "- This IS NOT expected if you are initializing DistilBertForSequenceClassification from the checkpoint of a model that you expect to be exactly identical (initializing a BertForSequenceClassification model from a BertForSequenceClassification model).\n",
      "Some weights of DistilBertForSequenceClassification were not initialized from the model checkpoint at HooshvareLab/distilbert-fa-zwnj-base and are newly initialized: ['classifier.weight', 'pre_classifier.weight', 'pre_classifier.bias', 'classifier.bias']\n",
      "You should probably TRAIN this model on a down-stream task to be able to use it for predictions and inference.\n"
     ]
    }
   ],
   "source": [
    "model = DistilBertForSequenceClassification.from_pretrained(\n",
    "    'HooshvareLab/distilbert-fa-zwnj-base',\n",
    "    num_labels=10\n",
    ").to(device)"
   ]
  },
  {
   "cell_type": "code",
   "execution_count": 10,
   "id": "d65457bb",
   "metadata": {
    "scrolled": true
   },
   "outputs": [
    {
     "data": {
      "text/plain": [
       "DistilBertForSequenceClassification(\n",
       "  (distilbert): DistilBertModel(\n",
       "    (embeddings): Embeddings(\n",
       "      (word_embeddings): Embedding(42000, 768, padding_idx=0)\n",
       "      (position_embeddings): Embedding(512, 768)\n",
       "      (LayerNorm): LayerNorm((768,), eps=1e-12, elementwise_affine=True)\n",
       "      (dropout): Dropout(p=0.1, inplace=False)\n",
       "    )\n",
       "    (transformer): Transformer(\n",
       "      (layer): ModuleList(\n",
       "        (0): TransformerBlock(\n",
       "          (attention): MultiHeadSelfAttention(\n",
       "            (dropout): Dropout(p=0.1, inplace=False)\n",
       "            (q_lin): Linear(in_features=768, out_features=768, bias=True)\n",
       "            (k_lin): Linear(in_features=768, out_features=768, bias=True)\n",
       "            (v_lin): Linear(in_features=768, out_features=768, bias=True)\n",
       "            (out_lin): Linear(in_features=768, out_features=768, bias=True)\n",
       "          )\n",
       "          (sa_layer_norm): LayerNorm((768,), eps=1e-12, elementwise_affine=True)\n",
       "          (ffn): FFN(\n",
       "            (dropout): Dropout(p=0.1, inplace=False)\n",
       "            (lin1): Linear(in_features=768, out_features=3072, bias=True)\n",
       "            (lin2): Linear(in_features=3072, out_features=768, bias=True)\n",
       "            (activation): GELUActivation()\n",
       "          )\n",
       "          (output_layer_norm): LayerNorm((768,), eps=1e-12, elementwise_affine=True)\n",
       "        )\n",
       "        (1): TransformerBlock(\n",
       "          (attention): MultiHeadSelfAttention(\n",
       "            (dropout): Dropout(p=0.1, inplace=False)\n",
       "            (q_lin): Linear(in_features=768, out_features=768, bias=True)\n",
       "            (k_lin): Linear(in_features=768, out_features=768, bias=True)\n",
       "            (v_lin): Linear(in_features=768, out_features=768, bias=True)\n",
       "            (out_lin): Linear(in_features=768, out_features=768, bias=True)\n",
       "          )\n",
       "          (sa_layer_norm): LayerNorm((768,), eps=1e-12, elementwise_affine=True)\n",
       "          (ffn): FFN(\n",
       "            (dropout): Dropout(p=0.1, inplace=False)\n",
       "            (lin1): Linear(in_features=768, out_features=3072, bias=True)\n",
       "            (lin2): Linear(in_features=3072, out_features=768, bias=True)\n",
       "            (activation): GELUActivation()\n",
       "          )\n",
       "          (output_layer_norm): LayerNorm((768,), eps=1e-12, elementwise_affine=True)\n",
       "        )\n",
       "        (2): TransformerBlock(\n",
       "          (attention): MultiHeadSelfAttention(\n",
       "            (dropout): Dropout(p=0.1, inplace=False)\n",
       "            (q_lin): Linear(in_features=768, out_features=768, bias=True)\n",
       "            (k_lin): Linear(in_features=768, out_features=768, bias=True)\n",
       "            (v_lin): Linear(in_features=768, out_features=768, bias=True)\n",
       "            (out_lin): Linear(in_features=768, out_features=768, bias=True)\n",
       "          )\n",
       "          (sa_layer_norm): LayerNorm((768,), eps=1e-12, elementwise_affine=True)\n",
       "          (ffn): FFN(\n",
       "            (dropout): Dropout(p=0.1, inplace=False)\n",
       "            (lin1): Linear(in_features=768, out_features=3072, bias=True)\n",
       "            (lin2): Linear(in_features=3072, out_features=768, bias=True)\n",
       "            (activation): GELUActivation()\n",
       "          )\n",
       "          (output_layer_norm): LayerNorm((768,), eps=1e-12, elementwise_affine=True)\n",
       "        )\n",
       "        (3): TransformerBlock(\n",
       "          (attention): MultiHeadSelfAttention(\n",
       "            (dropout): Dropout(p=0.1, inplace=False)\n",
       "            (q_lin): Linear(in_features=768, out_features=768, bias=True)\n",
       "            (k_lin): Linear(in_features=768, out_features=768, bias=True)\n",
       "            (v_lin): Linear(in_features=768, out_features=768, bias=True)\n",
       "            (out_lin): Linear(in_features=768, out_features=768, bias=True)\n",
       "          )\n",
       "          (sa_layer_norm): LayerNorm((768,), eps=1e-12, elementwise_affine=True)\n",
       "          (ffn): FFN(\n",
       "            (dropout): Dropout(p=0.1, inplace=False)\n",
       "            (lin1): Linear(in_features=768, out_features=3072, bias=True)\n",
       "            (lin2): Linear(in_features=3072, out_features=768, bias=True)\n",
       "            (activation): GELUActivation()\n",
       "          )\n",
       "          (output_layer_norm): LayerNorm((768,), eps=1e-12, elementwise_affine=True)\n",
       "        )\n",
       "        (4): TransformerBlock(\n",
       "          (attention): MultiHeadSelfAttention(\n",
       "            (dropout): Dropout(p=0.1, inplace=False)\n",
       "            (q_lin): Linear(in_features=768, out_features=768, bias=True)\n",
       "            (k_lin): Linear(in_features=768, out_features=768, bias=True)\n",
       "            (v_lin): Linear(in_features=768, out_features=768, bias=True)\n",
       "            (out_lin): Linear(in_features=768, out_features=768, bias=True)\n",
       "          )\n",
       "          (sa_layer_norm): LayerNorm((768,), eps=1e-12, elementwise_affine=True)\n",
       "          (ffn): FFN(\n",
       "            (dropout): Dropout(p=0.1, inplace=False)\n",
       "            (lin1): Linear(in_features=768, out_features=3072, bias=True)\n",
       "            (lin2): Linear(in_features=3072, out_features=768, bias=True)\n",
       "            (activation): GELUActivation()\n",
       "          )\n",
       "          (output_layer_norm): LayerNorm((768,), eps=1e-12, elementwise_affine=True)\n",
       "        )\n",
       "        (5): TransformerBlock(\n",
       "          (attention): MultiHeadSelfAttention(\n",
       "            (dropout): Dropout(p=0.1, inplace=False)\n",
       "            (q_lin): Linear(in_features=768, out_features=768, bias=True)\n",
       "            (k_lin): Linear(in_features=768, out_features=768, bias=True)\n",
       "            (v_lin): Linear(in_features=768, out_features=768, bias=True)\n",
       "            (out_lin): Linear(in_features=768, out_features=768, bias=True)\n",
       "          )\n",
       "          (sa_layer_norm): LayerNorm((768,), eps=1e-12, elementwise_affine=True)\n",
       "          (ffn): FFN(\n",
       "            (dropout): Dropout(p=0.1, inplace=False)\n",
       "            (lin1): Linear(in_features=768, out_features=3072, bias=True)\n",
       "            (lin2): Linear(in_features=3072, out_features=768, bias=True)\n",
       "            (activation): GELUActivation()\n",
       "          )\n",
       "          (output_layer_norm): LayerNorm((768,), eps=1e-12, elementwise_affine=True)\n",
       "        )\n",
       "      )\n",
       "    )\n",
       "  )\n",
       "  (pre_classifier): Linear(in_features=768, out_features=768, bias=True)\n",
       "  (classifier): Linear(in_features=768, out_features=10, bias=True)\n",
       "  (dropout): Dropout(p=0.2, inplace=False)\n",
       ")"
      ]
     },
     "execution_count": 10,
     "metadata": {},
     "output_type": "execute_result"
    }
   ],
   "source": [
    "model"
   ]
  },
  {
   "cell_type": "code",
   "execution_count": 12,
   "id": "50991f09",
   "metadata": {},
   "outputs": [],
   "source": [
    "# calculating label probabilities before training\n",
    "test_dataloader_for_perplexity = DataLoader(test_data_for_perplexity, batch_size=1)\n",
    "probs_before_training = []\n",
    "\n",
    "with torch.no_grad():\n",
    "    for (X, y) in test_dataloader_for_perplexity:\n",
    "        mask = X['attention_mask'].to(device)\n",
    "        input_id = X['input_ids'].squeeze(1).to(device)\n",
    "        output = model(input_id, mask)\n",
    "        loss = output.loss\n",
    "        logits = torch.nn.functional.softmax(output.logits, dim=1).squeeze()\n",
    "        probs_before_training.append(logits[y.item()].item())"
   ]
  },
  {
   "cell_type": "code",
   "execution_count": 13,
   "id": "be18a50d",
   "metadata": {},
   "outputs": [],
   "source": [
    "# define hyperparameters\n",
    "learning_rate = 3e-5\n",
    "batch_size = 4\n",
    "epochs = 3"
   ]
  },
  {
   "cell_type": "code",
   "execution_count": 14,
   "id": "4bc7c918",
   "metadata": {},
   "outputs": [],
   "source": [
    "# create loss function and dataloader\n",
    "loss_fn = nn.CrossEntropyLoss()\n",
    "optimizer = torch.optim.AdamW(model.parameters(), lr=learning_rate, eps=1e-8)\n",
    "train_dataloader = DataLoader(train_data, batch_size=batch_size, shuffle=True)\n",
    "test_dataloader = DataLoader(test_data, batch_size=batch_size, shuffle=False)"
   ]
  },
  {
   "cell_type": "code",
   "execution_count": 15,
   "id": "c60ec007",
   "metadata": {},
   "outputs": [],
   "source": [
    "def train_loop(dataloader, model, loss_fn, optimizer):\n",
    "    model.train()\n",
    "    size = len(dataloader.dataset)\n",
    "    num_correct = 0\n",
    "    for batch_num, (X, y) in enumerate(dataloader):\n",
    "        losses = []\n",
    "        # forward prop\n",
    "        y = y.to(device)\n",
    "        mask = X['attention_mask'].to(device)\n",
    "        input_id = X['input_ids'].squeeze(1).to(device)\n",
    "        output = model(\n",
    "            input_ids=input_id,\n",
    "            attention_mask=mask,\n",
    "            labels=y)\n",
    "        loss = output.loss\n",
    "        logits = output.logits\n",
    "        losses.append(loss.item())\n",
    "        num_correct += (logits.argmax(dim=1) == y).sum().item()\n",
    "        # back prop\n",
    "        optimizer.zero_grad()\n",
    "        loss.backward()\n",
    "        optimizer.step()\n",
    "        \n",
    "        if batch_num % 1000 == 0:\n",
    "            print(f'batch: {batch_num}, loss: {np.mean(losses)}')\n",
    "            losses = []\n",
    "    \n",
    "    accuracy = num_correct / size\n",
    "    print(f'train_loss: {loss.item()}')\n",
    "    print(f'Train Accuracy: {np.round(accuracy*100,2)}%')\n",
    "    \n",
    "            \n",
    "def test_loop(dataloader, model, loss_fn):\n",
    "    model.eval()\n",
    "    size = len(dataloader.dataset)\n",
    "    num_correct = 0\n",
    "    with torch.no_grad():\n",
    "        for batch_num, (X, y) in enumerate(dataloader):\n",
    "            y = y.to(device)\n",
    "            mask = X['attention_mask'].to(device)\n",
    "            input_id = X['input_ids'].squeeze(1).to(device)\n",
    "            output = model(\n",
    "                input_ids=input_id,\n",
    "                attention_mask=mask,\n",
    "                labels=y)\n",
    "            logits = output.logits\n",
    "            num_correct += (logits.argmax(dim=1) == y).sum().item()\n",
    "                        \n",
    "    accuracy = num_correct / size\n",
    "    print(f'Test Accuracy: {np.round(accuracy*100, 2)}%')"
   ]
  },
  {
   "cell_type": "code",
   "execution_count": 16,
   "id": "cf3c6348",
   "metadata": {
    "scrolled": true
   },
   "outputs": [
    {
     "name": "stdout",
     "output_type": "stream",
     "text": [
      "epoch 1 ==================================================\n",
      "batch: 0, loss: 2.338038682937622\n",
      "batch: 1000, loss: 2.1201162338256836\n",
      "batch: 2000, loss: 2.1355464458465576\n",
      "batch: 3000, loss: 1.2660924196243286\n",
      "batch: 4000, loss: 1.9826786518096924\n",
      "batch: 5000, loss: 0.38868314027786255\n",
      "batch: 6000, loss: 1.4007742404937744\n",
      "batch: 7000, loss: 2.271834373474121\n",
      "batch: 8000, loss: 1.3110771179199219\n",
      "batch: 9000, loss: 1.426571011543274\n",
      "batch: 10000, loss: 1.8602544069290161\n",
      "batch: 11000, loss: 1.251244306564331\n",
      "batch: 12000, loss: 1.5744707584381104\n",
      "batch: 13000, loss: 0.4928745627403259\n",
      "batch: 14000, loss: 0.2475733906030655\n",
      "batch: 15000, loss: 1.0818895101547241\n",
      "batch: 16000, loss: 0.9768416881561279\n",
      "batch: 17000, loss: 1.9667469263076782\n",
      "batch: 18000, loss: 1.143692135810852\n",
      "batch: 19000, loss: 1.3623651266098022\n",
      "train_loss: 1.407374620437622\n",
      "Train Accuracy: 51.43%\n",
      "Test Accuracy: 60.7%\n",
      "\n",
      "epoch 2 ==================================================\n",
      "batch: 0, loss: 0.49606114625930786\n",
      "batch: 1000, loss: 0.8664000034332275\n",
      "batch: 2000, loss: 1.822621464729309\n",
      "batch: 3000, loss: 1.3375046253204346\n",
      "batch: 4000, loss: 2.24318265914917\n",
      "batch: 5000, loss: 1.2702648639678955\n",
      "batch: 6000, loss: 0.32039839029312134\n",
      "batch: 7000, loss: 0.22587741911411285\n",
      "batch: 8000, loss: 1.2678252458572388\n",
      "batch: 9000, loss: 1.4432439804077148\n",
      "batch: 10000, loss: 1.878239393234253\n",
      "batch: 11000, loss: 1.5068341493606567\n",
      "batch: 12000, loss: 1.7062581777572632\n",
      "batch: 13000, loss: 0.26854321360588074\n",
      "batch: 14000, loss: 0.5775260925292969\n",
      "batch: 15000, loss: 0.23847879469394684\n",
      "batch: 16000, loss: 0.6926220059394836\n",
      "batch: 17000, loss: 0.9576805830001831\n",
      "batch: 18000, loss: 1.3057881593704224\n",
      "batch: 19000, loss: 0.6686962246894836\n",
      "train_loss: 2.628957509994507\n",
      "Train Accuracy: 67.55%\n",
      "Test Accuracy: 63.6%\n",
      "\n",
      "epoch 3 ==================================================\n",
      "batch: 0, loss: 0.8925702571868896\n",
      "batch: 1000, loss: 0.9634271860122681\n",
      "batch: 2000, loss: 0.195230633020401\n",
      "batch: 3000, loss: 0.5902820229530334\n",
      "batch: 4000, loss: 0.20397530496120453\n",
      "batch: 5000, loss: 1.1113697290420532\n",
      "batch: 6000, loss: 1.3805986642837524\n",
      "batch: 7000, loss: 0.9744704365730286\n",
      "batch: 8000, loss: 0.4710785448551178\n",
      "batch: 9000, loss: 1.4865186214447021\n",
      "batch: 10000, loss: 0.4448009729385376\n",
      "batch: 11000, loss: 0.47408968210220337\n",
      "batch: 12000, loss: 0.3370603322982788\n",
      "batch: 13000, loss: 0.5740693211555481\n",
      "batch: 14000, loss: 0.9084650278091431\n",
      "batch: 15000, loss: 1.3574166297912598\n",
      "batch: 16000, loss: 0.255329430103302\n",
      "batch: 17000, loss: 0.04328059405088425\n",
      "batch: 18000, loss: 1.1635618209838867\n",
      "batch: 19000, loss: 1.134002685546875\n",
      "train_loss: 0.14983826875686646\n",
      "Train Accuracy: 75.66%\n",
      "Test Accuracy: 65.92%\n",
      "\n"
     ]
    }
   ],
   "source": [
    "for i in range(1, epochs+1):\n",
    "    print(f'epoch {i}', '='*50)\n",
    "    train_loop(train_dataloader, model, loss_fn, optimizer)\n",
    "    test_loop(test_dataloader, model, loss_fn)\n",
    "    print()"
   ]
  },
  {
   "cell_type": "code",
   "execution_count": 21,
   "id": "495c28e2",
   "metadata": {},
   "outputs": [],
   "source": [
    "# torch.save(model, 'fine_tuned.pt')\n",
    "model = torch.load('fine_tuned.pt')"
   ]
  },
  {
   "cell_type": "code",
   "execution_count": 24,
   "id": "6ee07e09",
   "metadata": {},
   "outputs": [],
   "source": [
    "# calculating label probabilities after training\n",
    "test_dataloader_for_perplexity = DataLoader(test_data_for_perplexity, batch_size=1)\n",
    "probs_after_training = []\n",
    "\n",
    "with torch.no_grad():\n",
    "    for (X, y) in test_dataloader_for_perplexity:\n",
    "        mask = X['attention_mask'].to(device)\n",
    "        input_id = X['input_ids'].squeeze(1).to(device)\n",
    "        output = model(input_id, mask)\n",
    "        loss = output.loss\n",
    "        logits = torch.nn.functional.softmax(output.logits, dim=1).squeeze()\n",
    "        probs_after_training.append(logits[y.item()].item())"
   ]
  },
  {
   "cell_type": "code",
   "execution_count": 26,
   "id": "c5e07f55",
   "metadata": {},
   "outputs": [],
   "source": [
    "test_dataloader = DataLoader(test_data, batch_size=1, shuffle=False)\n",
    "estimated_labels = []\n",
    "actual_labels = []\n",
    "\n",
    "with torch.no_grad():\n",
    "    for (X, y) in test_dataloader:\n",
    "        mask = X['attention_mask'].to(device)\n",
    "        input_id = X['input_ids'].squeeze(1).to(device)\n",
    "        output = model(input_id, mask)\n",
    "        loss = output.loss\n",
    "        logits = output.logits\n",
    "        actual_labels.append(y.item())\n",
    "        estimated_labels.append(logits.argmax(dim=1).item())"
   ]
  },
  {
   "cell_type": "code",
   "execution_count": 30,
   "id": "759c25d0",
   "metadata": {},
   "outputs": [
    {
     "name": "stdout",
     "output_type": "stream",
     "text": [
      "attar\n"
     ]
    }
   ],
   "source": [
    "# classify arbitrary poem\n",
    "\n",
    "poem = 'به لب رسیده مرا جان خودی به من برساند'\n",
    "with torch.no_grad():\n",
    "    token = tokenizer(\n",
    "        poem,\n",
    "        padding='max_length',\n",
    "        max_length=25,\n",
    "        truncation=True,\n",
    "        return_tensors='pt',\n",
    "    )\n",
    "    \n",
    "    mask = token['attention_mask'].to(device)\n",
    "    input_id = token['input_ids'].squeeze(1).to(device)\n",
    "    output = model(input_id, mask)\n",
    "    loss = output.loss\n",
    "    logits = output.logits\n",
    "    predicted_label = logits.argmax(dim=1).item()\n",
    "    print(label_map[predicted_label])"
   ]
  },
  {
   "cell_type": "code",
   "execution_count": 28,
   "id": "1e9ce1b6",
   "metadata": {},
   "outputs": [
    {
     "name": "stdout",
     "output_type": "stream",
     "text": [
      "              precision    recall  f1-score   support\n",
      "\n",
      "           0       0.64      0.65      0.64      1999\n",
      "           1       0.63      0.60      0.61      1971\n",
      "           2       0.72      0.69      0.71      2019\n",
      "           3       0.60      0.41      0.48      1995\n",
      "           4       0.58      0.48      0.52      2026\n",
      "           5       0.82      0.94      0.88      1904\n",
      "           6       0.86      0.86      0.86      2059\n",
      "           7       0.67      0.68      0.68      1971\n",
      "           8       0.61      0.68      0.64      2033\n",
      "           9       0.47      0.62      0.53      2023\n",
      "\n",
      "    accuracy                           0.66     20000\n",
      "   macro avg       0.66      0.66      0.66     20000\n",
      "weighted avg       0.66      0.66      0.66     20000\n",
      "\n"
     ]
    }
   ],
   "source": [
    "# classification report\n",
    "print(classification_report(actual_labels, estimated_labels))"
   ]
  },
  {
   "cell_type": "code",
   "execution_count": 29,
   "id": "b33144b4",
   "metadata": {},
   "outputs": [
    {
     "data": {
      "image/png": "[encoded data removed]",
      "text/plain": [
       "<Figure size 640x480 with 2 Axes>"
      ]
     },
     "metadata": {},
     "output_type": "display_data"
    }
   ],
   "source": [
    "# confusion matrix\n",
    "confmat = confusion_matrix(actual_labels, estimated_labels)\n",
    "sns.heatmap(\n",
    "    confmat,\n",
    "    xticklabels=label_map.values(),\n",
    "    yticklabels=label_map.values(),\n",
    "    annot=True,\n",
    "    fmt='d'\n",
    ");"
   ]
  },
  {
   "cell_type": "markdown",
   "id": "b12be897",
   "metadata": {},
   "source": [
    "### Perplexity"
   ]
  },
  {
   "cell_type": "code",
   "execution_count": 47,
   "id": "2862814b",
   "metadata": {},
   "outputs": [],
   "source": [
    "# before training\n",
    "perplexity_before_training = 1 / np.prod(np.array(probs_before_training) ** (1 / len(probs_before_training)))\n",
    "# after training\n",
    "perplexity_after_training = 1 / np.prod(np.array(probs_after_training) ** (1 / len(probs_after_training)))"
   ]
  },
  {
   "cell_type": "code",
   "execution_count": 48,
   "id": "314e02fa",
   "metadata": {},
   "outputs": [
    {
     "name": "stdout",
     "output_type": "stream",
     "text": [
      "Perplexity before training: 10.208\n",
      "Perplexity after training: 2.77\n"
     ]
    }
   ],
   "source": [
    "print(f'Perplexity before training: {np.round(perplexity_before_training, 3)}')\n",
    "print(f'Perplexity after training: {np.round(perplexity_after_training, 3)}')"
   ]
  },
  {
   "cell_type": "markdown",
   "id": "27ec6d97",
   "metadata": {},
   "source": [
    "As we can see, the `perplexity` is decreased after training, indicating the better generalization."
   ]
  }
 ],
 "metadata": {
  "kernelspec": {
   "display_name": "DL_env",
   "language": "python",
   "name": "dl_env"
  },
  "language_info": {
   "codemirror_mode": {
    "name": "ipython",
    "version": 3
   },
   "file_extension": ".py",
   "mimetype": "text/x-python",
   "name": "python",
   "nbconvert_exporter": "python",
   "pygments_lexer": "ipython3",
   "version": "3.10.6"
  }
 },
 "nbformat": 4,
 "nbformat_minor": 5
}

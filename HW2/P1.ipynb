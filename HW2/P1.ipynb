{
 "cells": [
  {
   "cell_type": "markdown",
   "id": "4aee21c3",
   "metadata": {},
   "source": [
    "## Problem 1\n",
    "### Milad Heidari\n",
    "### Student Number: 98101469"
   ]
  },
  {
   "cell_type": "code",
   "execution_count": 1,
   "id": "e8d7a6e4",
   "metadata": {},
   "outputs": [],
   "source": [
    "import torch\n",
    "import math\n",
    "import cv2\n",
    "import numpy as np\n",
    "import pandas as pd\n",
    "import seaborn as sns\n",
    "import matplotlib.pyplot as plt\n",
    "import torch.nn as nn\n",
    "from torch.utils.data import Dataset, DataLoader, random_split\n",
    "from torchvision.transforms import Lambda\n",
    "from torchvision.transforms import ToTensor\n",
    "from torchvision.datasets import FashionMNIST"
   ]
  },
  {
   "cell_type": "code",
   "execution_count": 2,
   "id": "620088ff",
   "metadata": {
    "scrolled": true
   },
   "outputs": [
    {
     "data": {
      "text/plain": [
       "'cuda'"
      ]
     },
     "execution_count": 2,
     "metadata": {},
     "output_type": "execute_result"
    }
   ],
   "source": [
    "# set device to cuda if available\n",
    "device = 'cuda' if torch.cuda.is_available() else 'cpu'\n",
    "device"
   ]
  },
  {
   "cell_type": "markdown",
   "id": "47d32f5e",
   "metadata": {},
   "source": [
    "#### A)"
   ]
  },
  {
   "cell_type": "code",
   "execution_count": 3,
   "id": "80101925",
   "metadata": {},
   "outputs": [],
   "source": [
    "DATA_PATH = 'data/'\n",
    "NUM_CLASSES = 10\n",
    "\n",
    "def label_map(label):\n",
    "    label_one_hot = torch.zeros((NUM_CLASSES,))\n",
    "    label_one_hot[label] = 1\n",
    "    return label_one_hot\n",
    "\n",
    "\n",
    "train_set = FashionMNIST(\n",
    "    root=DATA_PATH,\n",
    "    train=True,\n",
    "    download=False,\n",
    "    transform=ToTensor(),\n",
    "    target_transform=label_map\n",
    ")\n",
    "\n",
    "test_set = FashionMNIST(\n",
    "    root=DATA_PATH,\n",
    "    train=False,\n",
    "    download=True,\n",
    "    transform=ToTensor(),\n",
    "    target_transform=label_map\n",
    ")"
   ]
  },
  {
   "cell_type": "code",
   "execution_count": 4,
   "id": "dbeb4067",
   "metadata": {
    "scrolled": false
   },
   "outputs": [
    {
     "data": {
      "image/png": "[encoded data removed]",
      "text/plain": [
       "<Figure size 1200x800 with 10 Axes>"
      ]
     },
     "metadata": {},
     "output_type": "display_data"
    }
   ],
   "source": [
    "fig = plt.figure(figsize=(12, 8))\n",
    "for i in range(0, 10):\n",
    "    sample_dataloader = DataLoader(train_set, shuffle=True)\n",
    "    for image, label in sample_dataloader:\n",
    "        if label.argmax().item() == i:\n",
    "            ax = fig.add_subplot(2, 5, i+1)\n",
    "            ax.set_axis_off()\n",
    "            ax.imshow(image.cpu().squeeze().reshape((28, 28)), cmap='gray')\n",
    "            ax.set_title(i, y=-0.2, size=12)\n",
    "            break"
   ]
  },
  {
   "cell_type": "markdown",
   "id": "74ad94e2",
   "metadata": {},
   "source": [
    "#### B)"
   ]
  },
  {
   "cell_type": "code",
   "execution_count": 5,
   "id": "a0cfa155",
   "metadata": {},
   "outputs": [],
   "source": [
    "class MyLinear:\n",
    "    def __init__(self, input_dim, output_dim, device='cpu'):\n",
    "        mult_factor = np.sqrt(4 / (input_dim + output_dim))\n",
    "        self.W = torch.randn((output_dim, input_dim), requires_grad=True) # * mult_factor\n",
    "        self.b = torch.randn((1, output_dim), requires_grad=True) # * mult_factor\n",
    "        self.W = self.W.to(device)\n",
    "        self.b = self.b.to(device)\n",
    "        self.W.retain_grad()\n",
    "        self.b.retain_grad()\n",
    "    \n",
    "    def __call__(self, X):\n",
    "        result =  X @ self.W.T + self.b\n",
    "        return result\n",
    "    \n",
    "    \n",
    "    def parameters(self):\n",
    "        return [self.W, self.b]\n",
    "\n",
    "\n",
    "class MySigmoid:\n",
    "    \n",
    "    def __call__(self, X):\n",
    "        result = 1 / (1 + torch.exp(-X))\n",
    "        return result\n",
    "            \n",
    "    \n",
    "    def parameters(self):\n",
    "        return []\n",
    "    \n",
    "\n",
    "class MyReLU:\n",
    "    \n",
    "    def __call__(self, X):\n",
    "        result = torch.max(torch.zeros(X.shape).to(device), X)\n",
    "        return result\n",
    "    \n",
    "    def parameters(self):\n",
    "        return []\n",
    "    \n",
    "    \n",
    "class MySoftMax():\n",
    "    \n",
    "    def __call__(self, X):\n",
    "        X = torch.exp(X)\n",
    "        X = X / torch.sum(X, dim=1).reshape(-1, 1)\n",
    "        return X\n",
    "    \n",
    "    \n",
    "    def parameters(self):\n",
    "        return []\n",
    "\n",
    "    \n",
    "class MyFlatten():\n",
    "    \n",
    "    def __call__(self, X):\n",
    "        result = X.squeeze().reshape(X.shape[0], -1)\n",
    "        return result\n",
    "    \n",
    "    def parameters(self):\n",
    "        return []\n",
    "    \n",
    "    \n",
    "class MySequential:\n",
    "    \n",
    "    def __init__(self, *layers):\n",
    "        self.layers = layers\n",
    "        \n",
    "    \n",
    "    def __call__(self, X):\n",
    "        for layer in self.layers:\n",
    "            X = layer(X)\n",
    "            \n",
    "        return X\n",
    "    \n",
    "    \n",
    "    def parameters(self):\n",
    "        params = []\n",
    "        \n",
    "        for layer in self.layers:\n",
    "            params += layer.parameters()\n",
    "            \n",
    "        return params\n",
    "\n",
    "\n",
    "class MyCrossEntropyLoss:\n",
    "    \n",
    "    current_loss = 0\n",
    "    \n",
    "    def __call__(self, y, y_pred):\n",
    "        loss = (-y * torch.log(y_pred)).sum() / y.shape[0]\n",
    "        current_loss = loss\n",
    "        current_loss.retain_grad\n",
    "        loss.retain_grad\n",
    "        return loss\n",
    "    \n",
    "    def backward(self):\n",
    "        return current_loss.backward()\n",
    "    \n",
    "\n",
    "class MySGD:\n",
    "    \n",
    "    def __init__(self, parameters, lr=1e-4):\n",
    "        self.parameters = parameters\n",
    "        self.lr = lr\n",
    "        \n",
    "    def step(self):\n",
    "        for params in self.parameters:\n",
    "            params -= self.lr*params.grad\n",
    "            \n",
    "    \n",
    "    def zero_grad(self):\n",
    "        for params in self.parameters:\n",
    "            params.grad = None\n",
    "            \n",
    "class MyBatchNorm1D:\n",
    "    \n",
    "    def __init__(self, input_dim):\n",
    "        self.input_dim = input_dim\n",
    "        \n",
    "        \n",
    "    def __call__(self, X):\n",
    "        mu = X.mean(dim=0).reshape(1, -1)\n",
    "        sigma = X.std(dim=0).reshape(1, -1).detach().clone()\n",
    "        sigma[sigma == 0] = 1\n",
    "        result = (X - mu)/sigma\n",
    "        return result\n",
    "    \n",
    "    def parameters(self):\n",
    "        return []"
   ]
  },
  {
   "cell_type": "code",
   "execution_count": 6,
   "id": "0c26a1e2",
   "metadata": {},
   "outputs": [],
   "source": [
    "class MyNeuralNetwork:\n",
    "    \n",
    "    def __init__(self, device='cpu'):\n",
    "    \n",
    "        self.flatten = MyFlatten()\n",
    "        self.linear_relu_stack = MySequential(\n",
    "            MyLinear(784, 1024, device=device),\n",
    "            MyReLU(),\n",
    "            MyBatchNorm1D(1024),\n",
    "            MyLinear(1024, 512, device=device),\n",
    "            MyReLU(),\n",
    "            MyBatchNorm1D(512),\n",
    "            MyLinear(512, 256, device=device),\n",
    "            MyReLU(),\n",
    "            MyBatchNorm1D(256),\n",
    "            MyLinear(256, 64, device=device),\n",
    "            MyReLU(),\n",
    "            MyBatchNorm1D(64),\n",
    "            MyLinear(64, 10, device=device),\n",
    "            MySigmoid()\n",
    "        )\n",
    "        self.softmax = MySoftMax()\n",
    "    \n",
    "    \n",
    "    def forward(self, X):\n",
    "        X = self.flatten(X)\n",
    "        X = self.linear_relu_stack(X)\n",
    "        X = self.softmax(X)\n",
    "        return X\n",
    "    \n",
    "\n",
    "    def __call__(self, X):\n",
    "        return self.forward(X)\n",
    "    \n",
    "    \n",
    "    def parameters(self):\n",
    "        params = []\n",
    "        for layer in self.__dict__.values():\n",
    "            params += layer.parameters()\n",
    "        \n",
    "        return params"
   ]
  },
  {
   "cell_type": "markdown",
   "id": "b74569c3",
   "metadata": {},
   "source": [
    "#### C)"
   ]
  },
  {
   "cell_type": "code",
   "execution_count": 7,
   "id": "1fc50af0",
   "metadata": {
    "scrolled": true
   },
   "outputs": [],
   "source": [
    "# create an instance of the model defined above\n",
    "model = MyNeuralNetwork(device='cuda')"
   ]
  },
  {
   "cell_type": "code",
   "execution_count": 8,
   "id": "dc6b5e8f",
   "metadata": {},
   "outputs": [],
   "source": [
    "# setting hyperparameters\n",
    "learning_rate = 10\n",
    "batch_size = 128\n",
    "epochs = 25"
   ]
  },
  {
   "cell_type": "code",
   "execution_count": 9,
   "id": "775bf7c9",
   "metadata": {},
   "outputs": [],
   "source": [
    "# initialize the cost function and choose an optimizer\n",
    "loss_fn = MyCrossEntropyLoss()\n",
    "optimizer = MySGD(model.parameters(), lr=learning_rate)"
   ]
  },
  {
   "cell_type": "code",
   "execution_count": 10,
   "id": "96aea562",
   "metadata": {},
   "outputs": [],
   "source": [
    "def train_loop(dataloader, model, loss_fn, optimizer, train_losses=None, save_losses=False):\n",
    "    size = len(dataloader.dataset)\n",
    "    num_correct = 0\n",
    "    for batch_num, (X, y) in enumerate(dataloader):\n",
    "        # forward prop\n",
    "        X = X.to(torch.float32).to(device)\n",
    "        y = y.to(device)\n",
    "        y_pred = model(X)\n",
    "        loss = loss_fn(y, y_pred)\n",
    "        num_correct += (y_pred.argmax(dim=1) == y.argmax(dim=1)).sum().item()\n",
    "        # back prop\n",
    "        optimizer.zero_grad()\n",
    "        loss.backward()\n",
    "        optimizer.step()\n",
    "        \n",
    "        if save_losses:\n",
    "            if batch_num % 100 == 0:\n",
    "                train_losses.append(loss.item())\n",
    "        \n",
    "    accuracy = num_correct / size\n",
    "    print(f'train_loss: {loss.item()}')\n",
    "    print(f'Train Accuracy: {np.round(accuracy*100, 2)}%')\n",
    "    \n",
    "            \n",
    "def test_loop(dataloader, model, loss_fn, test_losses=None, save_losses=False):\n",
    "    size = len(dataloader.dataset)\n",
    "    num_correct = 0\n",
    "    with torch.no_grad():\n",
    "        for batch_num, (X, y) in enumerate(dataloader):\n",
    "            X = X.to(torch.float32).to(device)\n",
    "            y = y.to(device)\n",
    "            y_pred = model(X)\n",
    "            loss = loss_fn(y, y_pred)\n",
    "            num_correct += (y_pred.argmax(dim=1) == y.argmax(dim=1)).sum().item()\n",
    "            \n",
    "            if save_losses:\n",
    "                if batch_num % 100 == 0:\n",
    "                    test_losses.append(loss.item())\n",
    "        \n",
    "                        \n",
    "    accuracy = num_correct / size\n",
    "    print(f'Test Accuracy: {np.round(accuracy*100, 2)}%')"
   ]
  },
  {
   "cell_type": "code",
   "execution_count": 11,
   "id": "212d8663",
   "metadata": {
    "scrolled": true
   },
   "outputs": [
    {
     "name": "stdout",
     "output_type": "stream",
     "text": [
      "epoch 1 ==================================================\n",
      "train_loss: 1.62835693359375\n",
      "Train Accuracy: 68.47%\n",
      "Test Accuracy: 73.57%\n",
      "\n",
      "epoch 2 ==================================================\n",
      "train_loss: 1.5970739126205444\n",
      "Train Accuracy: 75.23%\n",
      "Test Accuracy: 75.09%\n",
      "\n",
      "epoch 3 ==================================================\n",
      "train_loss: 1.637969732284546\n",
      "Train Accuracy: 77.51%\n",
      "Test Accuracy: 77.45%\n",
      "\n",
      "epoch 4 ==================================================\n",
      "train_loss: 1.5847477912902832\n",
      "Train Accuracy: 80.26%\n",
      "Test Accuracy: 80.22%\n",
      "\n",
      "epoch 5 ==================================================\n",
      "train_loss: 1.5378206968307495\n",
      "Train Accuracy: 83.63%\n",
      "Test Accuracy: 83.11%\n",
      "\n",
      "epoch 6 ==================================================\n",
      "train_loss: 1.546405553817749\n",
      "Train Accuracy: 85.54%\n",
      "Test Accuracy: 83.99%\n",
      "\n",
      "epoch 7 ==================================================\n",
      "train_loss: 1.5438731908798218\n",
      "Train Accuracy: 86.18%\n",
      "Test Accuracy: 84.37%\n",
      "\n",
      "epoch 8 ==================================================\n",
      "train_loss: 1.5422667264938354\n",
      "Train Accuracy: 86.67%\n",
      "Test Accuracy: 84.93%\n",
      "\n",
      "epoch 9 ==================================================\n",
      "train_loss: 1.5086950063705444\n",
      "Train Accuracy: 87.11%\n",
      "Test Accuracy: 84.88%\n",
      "\n",
      "epoch 10 ==================================================\n",
      "train_loss: 1.5338733196258545\n",
      "Train Accuracy: 87.56%\n",
      "Test Accuracy: 85.35%\n",
      "\n",
      "epoch 11 ==================================================\n",
      "train_loss: 1.5449479818344116\n",
      "Train Accuracy: 87.99%\n",
      "Test Accuracy: 85.25%\n",
      "\n",
      "epoch 12 ==================================================\n",
      "train_loss: 1.52435302734375\n",
      "Train Accuracy: 88.22%\n",
      "Test Accuracy: 85.7%\n",
      "\n",
      "epoch 13 ==================================================\n",
      "train_loss: 1.512897253036499\n",
      "Train Accuracy: 88.46%\n",
      "Test Accuracy: 85.93%\n",
      "\n",
      "epoch 14 ==================================================\n",
      "train_loss: 1.5267081260681152\n",
      "Train Accuracy: 88.89%\n",
      "Test Accuracy: 85.79%\n",
      "\n",
      "epoch 15 ==================================================\n",
      "train_loss: 1.5212763547897339\n",
      "Train Accuracy: 88.97%\n",
      "Test Accuracy: 85.86%\n",
      "\n",
      "epoch 16 ==================================================\n",
      "train_loss: 1.5071289539337158\n",
      "Train Accuracy: 89.2%\n",
      "Test Accuracy: 86.05%\n",
      "\n",
      "epoch 17 ==================================================\n",
      "train_loss: 1.5309360027313232\n",
      "Train Accuracy: 89.55%\n",
      "Test Accuracy: 86.14%\n",
      "\n",
      "epoch 18 ==================================================\n",
      "train_loss: 1.5057071447372437\n",
      "Train Accuracy: 89.65%\n",
      "Test Accuracy: 86.49%\n",
      "\n",
      "epoch 19 ==================================================\n",
      "train_loss: 1.516087532043457\n",
      "Train Accuracy: 90.05%\n",
      "Test Accuracy: 86.3%\n",
      "\n",
      "epoch 20 ==================================================\n",
      "train_loss: 1.5152974128723145\n",
      "Train Accuracy: 90.14%\n",
      "Test Accuracy: 86.41%\n",
      "\n",
      "epoch 21 ==================================================\n",
      "train_loss: 1.502638816833496\n",
      "Train Accuracy: 90.27%\n",
      "Test Accuracy: 86.51%\n",
      "\n",
      "epoch 22 ==================================================\n",
      "train_loss: 1.496203899383545\n",
      "Train Accuracy: 90.44%\n",
      "Test Accuracy: 86.59%\n",
      "\n",
      "epoch 23 ==================================================\n",
      "train_loss: 1.5172395706176758\n",
      "Train Accuracy: 90.8%\n",
      "Test Accuracy: 86.72%\n",
      "\n",
      "epoch 24 ==================================================\n",
      "train_loss: 1.540102481842041\n",
      "Train Accuracy: 90.79%\n",
      "Test Accuracy: 86.52%\n",
      "\n",
      "epoch 25 ==================================================\n",
      "train_loss: 1.4940283298492432\n",
      "Train Accuracy: 91.2%\n",
      "Test Accuracy: 87.17%\n",
      "\n"
     ]
    }
   ],
   "source": [
    "train_dataloader = DataLoader(train_set, batch_size=batch_size, shuffle=True)\n",
    "test_dataloader = DataLoader(test_set, batch_size=batch_size, shuffle=False)\n",
    "train_losses = []\n",
    "test_losses = []\n",
    "\n",
    "for i in range(1, epochs+1):\n",
    "    print(f'epoch {i}', '='*50)\n",
    "    train_loop(train_dataloader, model, loss_fn, optimizer, train_losses=train_losses, save_losses=True)\n",
    "    test_loop(test_dataloader, model, loss_fn, test_losses=test_losses, save_losses=True)\n",
    "    print()"
   ]
  },
  {
   "cell_type": "code",
   "execution_count": 15,
   "id": "b70318b2",
   "metadata": {
    "scrolled": false
   },
   "outputs": [
    {
     "data": {
      "image/png": "[encoded data removed]",
      "text/plain": [
       "<Figure size 640x480 with 1 Axes>"
      ]
     },
     "metadata": {},
     "output_type": "display_data"
    }
   ],
   "source": [
    "plt.plot(train_losses, color='red')\n",
    "plt.xlabel('x 100 iterations')\n",
    "plt.title('Learning Curve for SGD Optimizer')\n",
    "plt.ylabel('total loss');"
   ]
  },
  {
   "cell_type": "code",
   "execution_count": null,
   "id": "78a2e178",
   "metadata": {},
   "outputs": [],
   "source": [
    "torch.save(model, 'trained_model_p1.pt')"
   ]
  },
  {
   "cell_type": "markdown",
   "id": "39a7749e",
   "metadata": {},
   "source": [
    "#### D)"
   ]
  },
  {
   "cell_type": "code",
   "execution_count": 45,
   "id": "08c3cac1",
   "metadata": {},
   "outputs": [
    {
     "data": {
      "image/png": "[encoded data removed]",
      "text/plain": [
       "<Figure size 1200x800 with 9 Axes>"
      ]
     },
     "metadata": {},
     "output_type": "display_data"
    }
   ],
   "source": [
    "test_dataloader = DataLoader(test_set, batch_size=9, shuffle=True)\n",
    "X, y = next(iter(test_dataloader))\n",
    "X, y = X.to(device), y.to(device)\n",
    "y_pred = model(X)\n",
    "\n",
    "fig = plt.figure(figsize=(12, 8))\n",
    "for i in range(0, 9):\n",
    "    image = X[i, :].squeeze()\n",
    "    actual_y = y[i, :].argmax().item()\n",
    "    predicted_y = y_pred[i, :].argmax().item()\n",
    "    ax = fig.add_subplot(3, 3, i+1)\n",
    "    ax.set_axis_off()\n",
    "    ax.imshow(image.cpu(), cmap='gray')\n",
    "    ax.set_title(f'actual label: {actual_y}, predicted label: {predicted_y}', y=-0.2, size=10)\n",
    "    "
   ]
  }
 ],
 "metadata": {
  "kernelspec": {
   "display_name": "DL_env",
   "language": "python",
   "name": "dl_env"
  },
  "language_info": {
   "codemirror_mode": {
    "name": "ipython",
    "version": 3
   },
   "file_extension": ".py",
   "mimetype": "text/x-python",
   "name": "python",
   "nbconvert_exporter": "python",
   "pygments_lexer": "ipython3",
   "version": "3.10.6"
  }
 },
 "nbformat": 4,
 "nbformat_minor": 5
}

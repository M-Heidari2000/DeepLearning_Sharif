{
 "cells": [
  {
   "cell_type": "markdown",
   "id": "80e8327d",
   "metadata": {},
   "source": [
    "## Problem 2\n",
    "### Milad Heidari\n",
    "### Student Number: 98101469"
   ]
  },
  {
   "cell_type": "code",
   "execution_count": 1,
   "id": "887e0777",
   "metadata": {},
   "outputs": [],
   "source": [
    "import torch\n",
    "import math\n",
    "import cv2\n",
    "import numpy as np\n",
    "import pandas as pd\n",
    "import seaborn as sns\n",
    "import matplotlib.pyplot as plt\n",
    "import torch.nn as nn\n",
    "from torch.utils.data import Dataset, DataLoader, random_split\n",
    "from torchvision.transforms import Lambda\n",
    "from torchvision.transforms import ToTensor"
   ]
  },
  {
   "cell_type": "code",
   "execution_count": 2,
   "id": "e5e4f8d0",
   "metadata": {},
   "outputs": [
    {
     "data": {
      "text/plain": [
       "'cuda'"
      ]
     },
     "execution_count": 2,
     "metadata": {},
     "output_type": "execute_result"
    }
   ],
   "source": [
    "# set device to cuda if available\n",
    "device = 'cuda' if torch.cuda.is_available() else 'cpu'\n",
    "device"
   ]
  },
  {
   "cell_type": "code",
   "execution_count": 3,
   "id": "3bff451e",
   "metadata": {},
   "outputs": [],
   "source": [
    "# create a custom dataset\n",
    "class CustomDataset(Dataset):\n",
    "    def __init__(self, examples, labels, transform=None, target_transform=None):\n",
    "        self.examples = examples\n",
    "        self.labels = labels\n",
    "        self.transform = transform\n",
    "        self.target_transform = target_transform\n",
    "        \n",
    "    def __len__(self):\n",
    "        return len(self.labels)\n",
    "    \n",
    "    def __getitem__(self, idx):\n",
    "        example = self.examples[idx, :]\n",
    "        label = self.labels[idx]\n",
    "        if self.transform is not None:\n",
    "            example = self.transform(example)\n",
    "        if self.target_transform is not None:\n",
    "            label = self.target_transform(label)\n",
    "                                    \n",
    "        return example, label"
   ]
  },
  {
   "cell_type": "code",
   "execution_count": 4,
   "id": "318c83b6",
   "metadata": {},
   "outputs": [],
   "source": [
    "# creating training and test set\n",
    "df_train = pd.read_csv('data/Q3_train.csv').to_numpy()\n",
    "df_test = pd.read_csv('data/Q3_test.csv').to_numpy()\n",
    "\n",
    "train_set = CustomDataset(\n",
    "    df_train[:, 1:],\n",
    "    df_train[:, 0],\n",
    "    transform=lambda x: torch.tensor(x).to(device),\n",
    "    target_transform=lambda x: torch.tensor(x).to(device),\n",
    ")\n",
    "\n",
    "test_set = CustomDataset(\n",
    "    df_test[:, 1:],\n",
    "    df_test[:, 0],\n",
    "    transform=lambda x: torch.tensor(x).to(device),\n",
    "    target_transform=lambda x: torch.tensor(x).to(device),\n",
    ")"
   ]
  },
  {
   "cell_type": "markdown",
   "id": "dc489d1d",
   "metadata": {},
   "source": [
    "#### A)"
   ]
  },
  {
   "cell_type": "code",
   "execution_count": 32,
   "id": "2eeb7eb6",
   "metadata": {},
   "outputs": [
    {
     "data": {
      "image/png": "[encoded data removed]",
      "text/plain": [
       "<Figure size 800x600 with 9 Axes>"
      ]
     },
     "metadata": {},
     "output_type": "display_data"
    }
   ],
   "source": [
    "sample_dataloader = DataLoader(train_set, shuffle=True)\n",
    "data_iterator = iter(sample_dataloader)\n",
    "\n",
    "fig = plt.figure(figsize=(8, 6))\n",
    "for i in range(1, 10):\n",
    "    X, y = next(data_iterator)\n",
    "    ax = fig.add_subplot(3, 3, i)\n",
    "    ax.set_axis_off()\n",
    "    ax.imshow(X.cpu().squeeze().reshape((28, 28)), cmap='gray')\n",
    "    ax.set_title(chr(65 + y.cpu()), y=-0.2)"
   ]
  },
  {
   "cell_type": "markdown",
   "id": "8db9f14b",
   "metadata": {},
   "source": [
    "#### B)"
   ]
  },
  {
   "cell_type": "code",
   "execution_count": 6,
   "id": "d074d692",
   "metadata": {},
   "outputs": [],
   "source": [
    "class NeuralNetwork(nn.Module):\n",
    "    def __init__(self):\n",
    "        super().__init__()\n",
    "        \n",
    "        self.flatten = nn.Flatten()\n",
    "        self.linear_relu_stack = nn.Sequential(\n",
    "            nn.BatchNorm1d(784, affine=False),\n",
    "            nn.Linear(784, 500),\n",
    "            nn.ReLU(),\n",
    "            nn.Linear(500, 250),\n",
    "            nn.ReLU(),\n",
    "            nn.Linear(250, 60),\n",
    "            nn.ReLU(),\n",
    "            nn.Linear(60, 26),\n",
    "        )\n",
    "        self.sigmoid = nn.Sigmoid()\n",
    "        \n",
    "    def forward(self, x):\n",
    "        x = self.flatten(x)\n",
    "        x = self.linear_relu_stack(x)\n",
    "        x = self.sigmoid(x)\n",
    "        return x"
   ]
  },
  {
   "cell_type": "code",
   "execution_count": 7,
   "id": "b5e27617",
   "metadata": {},
   "outputs": [
    {
     "data": {
      "text/plain": [
       "NeuralNetwork(\n",
       "  (flatten): Flatten(start_dim=1, end_dim=-1)\n",
       "  (linear_relu_stack): Sequential(\n",
       "    (0): BatchNorm1d(784, eps=1e-05, momentum=0.1, affine=False, track_running_stats=True)\n",
       "    (1): Linear(in_features=784, out_features=500, bias=True)\n",
       "    (2): ReLU()\n",
       "    (3): Linear(in_features=500, out_features=250, bias=True)\n",
       "    (4): ReLU()\n",
       "    (5): Linear(in_features=250, out_features=60, bias=True)\n",
       "    (6): ReLU()\n",
       "    (7): Linear(in_features=60, out_features=26, bias=True)\n",
       "  )\n",
       "  (sigmoid): Sigmoid()\n",
       ")"
      ]
     },
     "execution_count": 7,
     "metadata": {},
     "output_type": "execute_result"
    }
   ],
   "source": [
    "# create an instance of the model defined above\n",
    "model = NeuralNetwork().to(device)\n",
    "model.train()"
   ]
  },
  {
   "cell_type": "code",
   "execution_count": 8,
   "id": "b0e00461",
   "metadata": {},
   "outputs": [],
   "source": [
    "# setting hyperparameters\n",
    "learning_rate = 1e-4\n",
    "batch_size = 64\n",
    "epochs = 15"
   ]
  },
  {
   "cell_type": "code",
   "execution_count": 9,
   "id": "bab9baf3",
   "metadata": {},
   "outputs": [],
   "source": [
    "# initialize the cost function and choose an optimizer\n",
    "loss_fn = nn.CrossEntropyLoss()\n",
    "optimizer = torch.optim.Adam(model.parameters(), lr=learning_rate)"
   ]
  },
  {
   "cell_type": "code",
   "execution_count": 10,
   "id": "c90e0c89",
   "metadata": {},
   "outputs": [],
   "source": [
    "def train_loop(dataloader, model, loss_fn, optimizer, train_losses=None, save_losses=False):\n",
    "    size = len(dataloader.dataset)\n",
    "    num_correct = 0\n",
    "    for batch_num, (X, y) in enumerate(dataloader):\n",
    "        # forward prop\n",
    "        X = X.to(torch.float32)\n",
    "        y_pred = model(X)\n",
    "        loss = loss_fn(y_pred, y)\n",
    "        num_correct += (y_pred.argmax(dim=1) == y).sum().item()\n",
    "        # back prop\n",
    "        optimizer.zero_grad()\n",
    "        loss.backward()\n",
    "        optimizer.step()\n",
    "        \n",
    "        if save_losses:\n",
    "            if batch_num % 100 == 0:\n",
    "                train_losses.append(loss.item())\n",
    "        \n",
    "    accuracy = num_correct / size\n",
    "    print(f'train_loss: {loss.item()}')\n",
    "    print(f'Train Accuracy: {np.round(accuracy*100, 2)}%')\n",
    "    \n",
    "            \n",
    "def test_loop(dataloader, model, loss_fn, test_losses=None, save_losses=False):\n",
    "    size = len(dataloader.dataset)\n",
    "    num_correct = 0\n",
    "    with torch.no_grad():\n",
    "        for batch_num, (X, y) in enumerate(dataloader):\n",
    "            X = X.to(torch.float32)\n",
    "            y_pred = model(X)\n",
    "            loss = loss_fn(y_pred, y)\n",
    "            num_correct += (y_pred.argmax(dim=1) == y).sum().item()\n",
    "            \n",
    "            if save_losses:\n",
    "                if batch_num % 100 == 0:\n",
    "                    test_losses.append(loss.item())\n",
    "        \n",
    "                        \n",
    "    accuracy = num_correct / size\n",
    "    print(f'Test Accuracy: {np.round(accuracy*100, 2)}%')"
   ]
  },
  {
   "cell_type": "code",
   "execution_count": 11,
   "id": "762ba09e",
   "metadata": {
    "scrolled": false
   },
   "outputs": [
    {
     "name": "stdout",
     "output_type": "stream",
     "text": [
      "epoch 1 ==================================================\n",
      "train_loss: 2.5900559425354004\n",
      "Train Accuracy: 31.96%\n",
      "Test Accuracy: 41.72%\n",
      "\n",
      "epoch 2 ==================================================\n",
      "train_loss: 2.465707778930664\n",
      "Train Accuracy: 60.13%\n",
      "Test Accuracy: 51.28%\n",
      "\n",
      "epoch 3 ==================================================\n",
      "train_loss: 2.4192447662353516\n",
      "Train Accuracy: 72.29%\n",
      "Test Accuracy: 61.63%\n",
      "\n",
      "epoch 4 ==================================================\n",
      "train_loss: 2.43123722076416\n",
      "Train Accuracy: 79.3%\n",
      "Test Accuracy: 64.61%\n",
      "\n",
      "epoch 5 ==================================================\n",
      "train_loss: 2.3757691383361816\n",
      "Train Accuracy: 84.34%\n",
      "Test Accuracy: 68.31%\n",
      "\n",
      "epoch 6 ==================================================\n",
      "train_loss: 2.37827467918396\n",
      "Train Accuracy: 87.66%\n",
      "Test Accuracy: 71.86%\n",
      "\n",
      "epoch 7 ==================================================\n",
      "train_loss: 2.376133918762207\n",
      "Train Accuracy: 89.9%\n",
      "Test Accuracy: 75.17%\n",
      "\n",
      "epoch 8 ==================================================\n",
      "train_loss: 2.3696792125701904\n",
      "Train Accuracy: 91.84%\n",
      "Test Accuracy: 75.1%\n",
      "\n",
      "epoch 9 ==================================================\n",
      "train_loss: 2.3469953536987305\n",
      "Train Accuracy: 93.34%\n",
      "Test Accuracy: 77.2%\n",
      "\n",
      "epoch 10 ==================================================\n",
      "train_loss: 2.336871862411499\n",
      "Train Accuracy: 94.61%\n",
      "Test Accuracy: 77.57%\n",
      "\n",
      "epoch 11 ==================================================\n",
      "train_loss: 2.3353893756866455\n",
      "Train Accuracy: 95.56%\n",
      "Test Accuracy: 77.75%\n",
      "\n",
      "epoch 12 ==================================================\n",
      "train_loss: 2.343308448791504\n",
      "Train Accuracy: 96.57%\n",
      "Test Accuracy: 79.02%\n",
      "\n",
      "epoch 13 ==================================================\n",
      "train_loss: 2.3452117443084717\n",
      "Train Accuracy: 97.24%\n",
      "Test Accuracy: 79.13%\n",
      "\n",
      "epoch 14 ==================================================\n",
      "train_loss: 2.342503309249878\n",
      "Train Accuracy: 97.71%\n",
      "Test Accuracy: 79.85%\n",
      "\n",
      "epoch 15 ==================================================\n",
      "train_loss: 2.3285391330718994\n",
      "Train Accuracy: 98.12%\n",
      "Test Accuracy: 79.28%\n",
      "\n"
     ]
    }
   ],
   "source": [
    "train_dataloader = DataLoader(train_set, batch_size=batch_size, shuffle=True)\n",
    "test_dataloader = DataLoader(test_set, batch_size=batch_size, shuffle=False)\n",
    "train_losses = []\n",
    "test_losses = []\n",
    "\n",
    "for i in range(1, epochs+1):\n",
    "    print(f'epoch {i}', '='*50)\n",
    "    train_loop(train_dataloader, model, loss_fn, optimizer, train_losses=train_losses, save_losses=True)\n",
    "    test_loop(test_dataloader, model, loss_fn, test_losses=test_losses, save_losses=True)\n",
    "    print()"
   ]
  },
  {
   "cell_type": "code",
   "execution_count": 12,
   "id": "274e05ef",
   "metadata": {},
   "outputs": [
    {
     "data": {
      "image/png": "[encoded data removed]",
      "text/plain": [
       "<Figure size 640x480 with 1 Axes>"
      ]
     },
     "metadata": {},
     "output_type": "display_data"
    }
   ],
   "source": [
    "plt.plot(train_losses)\n",
    "plt.xlabel('x 100 iterations')\n",
    "plt.title('Learning Curve for Adam Optimizer')\n",
    "plt.ylabel('total loss');"
   ]
  },
  {
   "cell_type": "code",
   "execution_count": 13,
   "id": "dcd2a420",
   "metadata": {},
   "outputs": [],
   "source": [
    "# create an instance of the model defined above\n",
    "model = NeuralNetwork().to(device)\n",
    "model.train()\n",
    "\n",
    "# setting hyperparameters\n",
    "learning_rate = 1e-4\n",
    "batch_size = 64\n",
    "epochs = 15\n",
    "\n",
    "# switching to SGD\n",
    "optimizer = torch.optim.Adam(model.parameters(), lr=learning_rate)"
   ]
  },
  {
   "cell_type": "code",
   "execution_count": 14,
   "id": "e6ddb47c",
   "metadata": {},
   "outputs": [
    {
     "name": "stdout",
     "output_type": "stream",
     "text": [
      "epoch 1 ==================================================\n",
      "train_loss: 2.5656890869140625\n",
      "Train Accuracy: 36.56%\n",
      "Test Accuracy: 44.02%\n",
      "\n",
      "epoch 2 ==================================================\n",
      "train_loss: 2.511042594909668\n",
      "Train Accuracy: 58.14%\n",
      "Test Accuracy: 48.81%\n",
      "\n",
      "epoch 3 ==================================================\n",
      "train_loss: 2.4442696571350098\n",
      "Train Accuracy: 66.73%\n",
      "Test Accuracy: 55.3%\n",
      "\n",
      "epoch 4 ==================================================\n",
      "train_loss: 2.421931743621826\n",
      "Train Accuracy: 73.98%\n",
      "Test Accuracy: 63.4%\n",
      "\n",
      "epoch 5 ==================================================\n",
      "train_loss: 2.3877463340759277\n",
      "Train Accuracy: 79.85%\n",
      "Test Accuracy: 66.63%\n",
      "\n",
      "epoch 6 ==================================================\n",
      "train_loss: 2.362750768661499\n",
      "Train Accuracy: 84.57%\n",
      "Test Accuracy: 68.21%\n",
      "\n",
      "epoch 7 ==================================================\n",
      "train_loss: 2.358513355255127\n",
      "Train Accuracy: 87.61%\n",
      "Test Accuracy: 69.92%\n",
      "\n",
      "epoch 8 ==================================================\n",
      "train_loss: 2.356267213821411\n",
      "Train Accuracy: 89.97%\n",
      "Test Accuracy: 72.95%\n",
      "\n",
      "epoch 9 ==================================================\n",
      "train_loss: 2.3414952754974365\n",
      "Train Accuracy: 92.17%\n",
      "Test Accuracy: 75.11%\n",
      "\n",
      "epoch 10 ==================================================\n",
      "train_loss: 2.364497661590576\n",
      "Train Accuracy: 93.88%\n",
      "Test Accuracy: 75.25%\n",
      "\n",
      "epoch 11 ==================================================\n",
      "train_loss: 2.3344247341156006\n",
      "Train Accuracy: 94.84%\n",
      "Test Accuracy: 75.31%\n",
      "\n",
      "epoch 12 ==================================================\n",
      "train_loss: 2.343484878540039\n",
      "Train Accuracy: 95.68%\n",
      "Test Accuracy: 75.6%\n",
      "\n",
      "epoch 13 ==================================================\n",
      "train_loss: 2.330996513366699\n",
      "Train Accuracy: 96.41%\n",
      "Test Accuracy: 77.69%\n",
      "\n",
      "epoch 14 ==================================================\n",
      "train_loss: 2.332019090652466\n",
      "Train Accuracy: 96.98%\n",
      "Test Accuracy: 78.46%\n",
      "\n",
      "epoch 15 ==================================================\n",
      "train_loss: 2.3745551109313965\n",
      "Train Accuracy: 97.48%\n",
      "Test Accuracy: 78.58%\n",
      "\n"
     ]
    }
   ],
   "source": [
    "train_losses = []\n",
    "test_losses = []\n",
    "\n",
    "for i in range(1, epochs+1):\n",
    "    print(f'epoch {i}', '='*50)\n",
    "    train_loop(train_dataloader, model, loss_fn, optimizer, train_losses=train_losses, save_losses=True)\n",
    "    test_loop(test_dataloader, model, loss_fn, test_losses=test_losses, save_losses=True)\n",
    "    print()"
   ]
  },
  {
   "cell_type": "code",
   "execution_count": 15,
   "id": "7cacbf38",
   "metadata": {},
   "outputs": [
    {
     "data": {
      "image/png": "[encoded data removed]",
      "text/plain": [
       "<Figure size 640x480 with 1 Axes>"
      ]
     },
     "metadata": {},
     "output_type": "display_data"
    }
   ],
   "source": [
    "plt.plot(train_losses, color='red')\n",
    "plt.xlabel('x 100 iterations')\n",
    "plt.title('Learning Curve for SGD Optimizer')\n",
    "plt.ylabel('total loss');"
   ]
  },
  {
   "cell_type": "markdown",
   "id": "dc3be244",
   "metadata": {},
   "source": [
    "There is no major difference between the performance of the two algorithms except that the Adam converges a little bit faster than SGD."
   ]
  },
  {
   "cell_type": "markdown",
   "id": "007f3d82",
   "metadata": {},
   "source": [
    "#### C)"
   ]
  },
  {
   "cell_type": "code",
   "execution_count": 3,
   "id": "59bbc60e",
   "metadata": {},
   "outputs": [],
   "source": [
    "# neural network with dropout\n",
    "class NeuralNetworkWithDropout(nn.Module):\n",
    "    def __init__(self):\n",
    "        super().__init__()\n",
    "        \n",
    "        self.flatten = nn.Flatten()\n",
    "        self.linear_relu_stack = nn.Sequential(\n",
    "            nn.BatchNorm1d(784, affine=False),\n",
    "            nn.Linear(784, 500),\n",
    "            nn.Dropout(0.15),\n",
    "            nn.ReLU(),\n",
    "            nn.Linear(500, 250),\n",
    "            nn.Dropout(0.15),\n",
    "            nn.ReLU(),\n",
    "            nn.Linear(250, 60),\n",
    "            nn.Dropout(0.15),\n",
    "            nn.ReLU(),\n",
    "            nn.Linear(60, 26),\n",
    "        )\n",
    "        self.sigmoid = nn.Sigmoid()\n",
    "        \n",
    "    def forward(self, x):\n",
    "        x = self.flatten(x)\n",
    "        x = self.linear_relu_stack(x)\n",
    "        x = self.sigmoid(x)\n",
    "        return x"
   ]
  },
  {
   "cell_type": "code",
   "execution_count": 17,
   "id": "9fe2d7a8",
   "metadata": {},
   "outputs": [],
   "source": [
    "# create an instance of the model defined above\n",
    "model = NeuralNetworkWithDropout().to(device)\n",
    "model.train()\n",
    "\n",
    "# setting hyperparameters\n",
    "learning_rate = 1e-3\n",
    "batch_size = 64\n",
    "epochs = 10\n",
    "\n",
    "# switching to SGD\n",
    "optimizer = torch.optim.Adam(model.parameters(), lr=learning_rate)"
   ]
  },
  {
   "cell_type": "code",
   "execution_count": 18,
   "id": "b9a448ad",
   "metadata": {},
   "outputs": [
    {
     "name": "stdout",
     "output_type": "stream",
     "text": [
      "epoch 1 ==================================================\n",
      "train_loss: 2.5454888343811035\n",
      "Train Accuracy: 46.06%\n",
      "Test Accuracy: 52.7%\n",
      "\n",
      "epoch 2 ==================================================\n",
      "train_loss: 2.4220781326293945\n",
      "Train Accuracy: 71.04%\n",
      "Test Accuracy: 62.74%\n",
      "\n",
      "epoch 3 ==================================================\n",
      "train_loss: 2.3916144371032715\n",
      "Train Accuracy: 81.18%\n",
      "Test Accuracy: 67.97%\n",
      "\n",
      "epoch 4 ==================================================\n",
      "train_loss: 2.362708568572998\n",
      "Train Accuracy: 88.14%\n",
      "Test Accuracy: 70.5%\n",
      "\n",
      "epoch 5 ==================================================\n",
      "train_loss: 2.3796935081481934\n",
      "Train Accuracy: 91.23%\n",
      "Test Accuracy: 71.82%\n",
      "\n",
      "epoch 6 ==================================================\n",
      "train_loss: 2.3573198318481445\n",
      "Train Accuracy: 93.95%\n",
      "Test Accuracy: 72.52%\n",
      "\n",
      "epoch 7 ==================================================\n",
      "train_loss: 2.353760004043579\n",
      "Train Accuracy: 94.97%\n",
      "Test Accuracy: 75.88%\n",
      "\n",
      "epoch 8 ==================================================\n",
      "train_loss: 2.3316564559936523\n",
      "Train Accuracy: 95.74%\n",
      "Test Accuracy: 75.67%\n",
      "\n",
      "epoch 9 ==================================================\n",
      "train_loss: 2.3313684463500977\n",
      "Train Accuracy: 96.43%\n",
      "Test Accuracy: 77.15%\n",
      "\n",
      "epoch 10 ==================================================\n",
      "train_loss: 2.326918840408325\n",
      "Train Accuracy: 96.56%\n",
      "Test Accuracy: 77.69%\n",
      "\n"
     ]
    }
   ],
   "source": [
    "train_losses = []\n",
    "test_losses = []\n",
    "\n",
    "for i in range(1, epochs+1):\n",
    "    print(f'epoch {i}', '='*50)\n",
    "    train_loop(train_dataloader, model, loss_fn, optimizer, train_losses=train_losses, save_losses=True)\n",
    "    test_loop(test_dataloader, model, loss_fn, test_losses=test_losses, save_losses=True)\n",
    "    print()"
   ]
  },
  {
   "cell_type": "code",
   "execution_count": 19,
   "id": "11dc32ed",
   "metadata": {},
   "outputs": [
    {
     "data": {
      "image/png": "[encoded data removed]",
      "text/plain": [
       "<Figure size 640x480 with 1 Axes>"
      ]
     },
     "metadata": {},
     "output_type": "display_data"
    }
   ],
   "source": [
    "plt.plot(train_losses, color='magenta')\n",
    "plt.xlabel('x 100 iterations')\n",
    "plt.title('Learning Curve for SGD Optimizer')\n",
    "plt.ylabel('total loss');"
   ]
  },
  {
   "cell_type": "markdown",
   "id": "148ab65c",
   "metadata": {},
   "source": [
    "#### D)"
   ]
  },
  {
   "cell_type": "markdown",
   "id": "e1c0f09b",
   "metadata": {},
   "source": [
    "Using dropout layers, algorithm converges more quickly, but, the accuracy is almost the same as before. Also, it acts as a regularization and prevents overfitting."
   ]
  },
  {
   "cell_type": "markdown",
   "id": "f85fe2cc",
   "metadata": {},
   "source": [
    "#### E)"
   ]
  },
  {
   "cell_type": "code",
   "execution_count": 4,
   "id": "3f2d982b",
   "metadata": {
    "scrolled": true
   },
   "outputs": [],
   "source": [
    "model = torch.load('model1.pt')\n",
    "cap = cv2.VideoCapture(0)\n",
    "model.eval()\n",
    "\n",
    "while True:\n",
    "    \n",
    "    ret, frame = cap.read()\n",
    "    gray_img = cv2.cvtColor(frame, cv2.COLOR_BGR2GRAY)\n",
    "    input_img = cv2.resize(gray_img, (28, 28))\n",
    "    input_img = torch.tensor(input_img).reshape((1, 28, 28)).to(device)\n",
    "    y_pred = model(input_img.float())\n",
    "    predicted_character = chr(65 + y_pred.argmax())\n",
    "    cv2.putText(frame, predicted_character, (300, 400), 4, 3, (0, 255, 255))\n",
    "    cv2.imshow('WebCam', frame)\n",
    "    \n",
    "    if cv2.waitKey(1) == ord('f'):\n",
    "        break\n",
    "    \n",
    "cap.release()\n",
    "cv2.destroyAllWindows()"
   ]
  }
 ],
 "metadata": {
  "kernelspec": {
   "display_name": "DL_env",
   "language": "python",
   "name": "dl_env"
  },
  "language_info": {
   "codemirror_mode": {
    "name": "ipython",
    "version": 3
   },
   "file_extension": ".py",
   "mimetype": "text/x-python",
   "name": "python",
   "nbconvert_exporter": "python",
   "pygments_lexer": "ipython3",
   "version": "3.10.6"
  }
 },
 "nbformat": 4,
 "nbformat_minor": 5
}
